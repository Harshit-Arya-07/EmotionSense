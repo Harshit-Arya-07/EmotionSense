from keras.utils import to_categorical
from keras_preprocessing.image import load_img
from keras.models import Sequential
from keras.layers import Dense, Conv2D, Dropout, Flatten, MaxPooling2D
import os
import pandas as pd
import numpy as np


TRAIN_DIR = 'images/images/train'
TEST_DIR = 'images/images/test'


def createdataframe(dir):
    image_paths = []
    labels = []
    for label in os.listdir(dir):
        for imagename in os.listdir(os.path.join(dir,label)):
            image_paths.append(os.path.join(dir,label,imagename))
            labels.append(label)
        print(label, "completed")
    return image_paths,labels



train = pd.DataFrame()
train['image'], train['label'] = createdataframe(TRAIN_DIR)


print(train)


test = pd.DataFrame()
test['image'], test['label'] = createdataframe(TEST_DIR)


print(test)
print(test['image'])


from tqdm.notebook import tqdm


import shutil
shutil.rmtree('images/images/train/angry/.ipynb_checkpoints', ignore_errors=True)



import os
import numpy as np
from tqdm import tqdm
from keras.preprocessing.image import load_img

def extract_features(images):
    features = []
    for image in tqdm(images):
        # Skip any files inside '.ipynb_checkpoints' directories
        if ".ipynb_checkpoints" in image:
            continue  
        
        try:
            img = load_img(image, color_mode="grayscale")  # Updated here
            img = np.array(img)
            features.append(img)
        except Exception as e:
            print(f"Error loading {image}: {e}")  # Print errors but continue processing
    
    return np.array(features)

# Example usage (assuming 'train' is a DataFrame with an 'image' column)
train_features = extract_features(train['image'])



test_features = extract_features(test['image'])


x_train = train_features/255.0
x_test = test_features/255.0


from sklearn.preprocessing import LabelEncoder


le = LabelEncoder()
le.fit(train['label'])


y_train = le.transform(train['label'])
y_test = le.transform(test['label'])


y_train = to_categorical(y_train,num_classes = 7)
y_test = to_categorical(y_test,num_classes = 7)


from keras.models import model_from_json


import json
from keras.models import model_from_json
from keras.saving import register_keras_serializable  # Ensure serialization compatibility
from keras.models import Sequential  # Explicitly import Sequential

# Load model architecture from JSON
with open("emotiondetector.json", "r") as json_file:
    model_json = json_file.read()

# Ensure custom serialization is handled
@register_keras_serializable()
class CustomSequential(Sequential):
    pass

# Load model from JSON
model = model_from_json(model_json, custom_objects={"Sequential": CustomSequential})

# Load weights
model.load_weights("facialemotionmodel.h5")



label = ['angry','disgust','fear','happy','neutral','sad','surprise']


from keras.preprocessing.image import load_img
import numpy as np

def ef(image):
    # Fix: Use color_mode="grayscale" instead of grayscale=True
    img = load_img(image, color_mode="grayscale")
    
    feature = np.array(img)
    feature = feature.reshape(1, 48, 48, 1)  # Ensure shape is compatible with model input
    return feature



image = 'images/images/train/sad/42.jpg'
print("original image is of sad")
img = ef(image)
pred = model.predict(img)
pred_label = label[pred.argmax()]
print("model prediction is ",pred_label)


import matplotlib.pyplot as plt
%matplotlib inline


image = 'images/images/train/sad/42.jpg'
print("original image is of sad")
img = ef(image)
pred = model.predict(img)
pred_label = label[pred.argmax()]
print("model prediction is ",pred_label)
plt.imshow(img.reshape(48,48),cmap='gray')


image = 'images/images/train/fear/2.jpg'
print("original image is of fear")
img = ef(image)
pred = model.predict(img)
pred_label = label[pred.argmax()]
print("model prediction is ",pred_label)
plt.imshow(img.reshape(48,48),cmap='gray')


image = 'images/images/train/disgust/299.jpg'
print("original image is of disgust")
img = ef(image)
pred = model.predict(img)
pred_label = label[pred.argmax()]
print("model prediction is ",pred_label)
plt.imshow(img.reshape(48,48),cmap='gray')


image = 'images/images/train/happy/7.jpg'
print("original image is of happy")
img = ef(image)
pred = model.predict(img)
pred_label = label[pred.argmax()]
print("model prediction is ",pred_label)
plt.imshow(img.reshape(48,48),cmap='gray')


image = 'images/images/train/surprise/15.jpg'
print("original image is of surprise")
img = ef(image)
pred = model.predict(img)
pred_label = label[pred.argmax()]
print("model prediction is ",pred_label)
plt.imshow(img.reshape(48,48),cmap='gray')



